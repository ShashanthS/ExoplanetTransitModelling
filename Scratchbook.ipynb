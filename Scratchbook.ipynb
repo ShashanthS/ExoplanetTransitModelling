{
 "cells": [
  {
   "cell_type": "code",
   "execution_count": 4,
   "id": "9ec422f9-a55a-4e93-92a1-e4bdc1e5d183",
   "metadata": {},
   "outputs": [],
   "source": [
    "import numpy as np\n",
    "import matplotlib.pyplot as plt"
   ]
  },
  {
   "cell_type": "markdown",
   "id": "563c2b24-5afc-4965-bf9d-f60dd02432e9",
   "metadata": {},
   "source": [
    "<i>Using the convolve function was not an original idea - I would like to thank Stackoverflow for this.</i>"
   ]
  },
  {
   "cell_type": "code",
   "execution_count": 25,
   "id": "1a76cd3e-2974-423a-9c1d-19b49cb7fbf2",
   "metadata": {
    "editable": true,
    "slideshow": {
     "slide_type": ""
    },
    "tags": []
   },
   "outputs": [
    {
     "name": "stdout",
     "output_type": "stream",
     "text": [
      "[3. 4. 5.]\n",
      "[3 4 5]\n"
     ]
    }
   ],
   "source": [
    "width = 7\n",
    "\n",
    "array = np.array([0,1,2,3,4,5,6,7,8])\n",
    "print(np.convolve(array, np.ones(width), 'valid')/width)\n",
    "print(array[int((width-1)/2):-int((width-1)/2)])"
   ]
  },
  {
   "cell_type": "code",
   "execution_count": 1,
   "id": "12afcb73-f6fa-4fda-bb4c-7c26652243a3",
   "metadata": {},
   "outputs": [
    {
     "data": {
      "text/plain": [
       "0"
      ]
     },
     "execution_count": 1,
     "metadata": {},
     "output_type": "execute_result"
    }
   ],
   "source": [
    "int(0.1)"
   ]
  },
  {
   "cell_type": "code",
   "execution_count": 2,
   "id": "08a6aa22-f912-4947-b2f3-f1775f1a72c4",
   "metadata": {},
   "outputs": [
    {
     "data": {
      "text/plain": [
       "0"
      ]
     },
     "execution_count": 2,
     "metadata": {},
     "output_type": "execute_result"
    }
   ],
   "source": [
    "int(0.8)\n"
   ]
  },
  {
   "cell_type": "code",
   "execution_count": 9,
   "id": "137d155b-e030-4356-b733-1577e2655e2c",
   "metadata": {},
   "outputs": [
    {
     "data": {
      "text/plain": [
       "array([ 1.  ,  1.95,  2.9 ,  3.85,  4.8 ,  5.75,  6.7 ,  7.65,  8.6 ,\n",
       "        9.55, 10.5 , 11.45, 12.4 , 13.35, 14.3 , 15.25, 16.2 , 17.15,\n",
       "       18.1 , 19.05, 20.  ])"
      ]
     },
     "execution_count": 9,
     "metadata": {},
     "output_type": "execute_result"
    }
   ],
   "source": [
    "t = np.linspace(1,20,21)\n",
    "t\n",
    "# t += 1\n",
    "t"
   ]
  },
  {
   "cell_type": "code",
   "execution_count": null,
   "id": "3141e2fd-263f-4ecb-a3dd-485b0330f44e",
   "metadata": {},
   "outputs": [],
   "source": []
  }
 ],
 "metadata": {
  "kernelspec": {
   "display_name": "Python 3 (ipykernel)",
   "language": "python",
   "name": "python3"
  },
  "language_info": {
   "codemirror_mode": {
    "name": "ipython",
    "version": 3
   },
   "file_extension": ".py",
   "mimetype": "text/x-python",
   "name": "python",
   "nbconvert_exporter": "python",
   "pygments_lexer": "ipython3",
   "version": "3.11.4"
  }
 },
 "nbformat": 4,
 "nbformat_minor": 5
}
